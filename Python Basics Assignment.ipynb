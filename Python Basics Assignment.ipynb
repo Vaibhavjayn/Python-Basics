{
 "cells": [
  {
   "cell_type": "markdown",
   "id": "ca0da257",
   "metadata": {},
   "source": [
    "Q1.  Explain the key features of Python that make it a popular choice for programming.\n",
    "Ans. Python is considered one of the most versatile and easy language to use for our programming purposes.\n",
    "     i.e Python is considered as most versatile language because it provides many libraries and tools to do tasks in many      \n",
    "     different fields like in front-end, Data Science and back-end etc. It is easy to learn and a versatile language.\n",
    "     \n",
    "   ## Key features :-\n",
    "   \n",
    "   1) Readability :- It has a very simple syntax that is easy to understand with clear and concise meaning.\n",
    "   2) Versatility :- It can be used for wide range of applications like web development, Data science, and can do work from     \n",
    "      scripting to building complex applications.\n",
    "   3) Large Community :- Python has a large and active community. It provide useful support and resources to users.\n",
    "   4) Open Source :- It is a open source i.e it is free to use and distribute, also users can contribute to its development.\n",
    "   5) Cross Platform :- It can run on various operating systems including Windows, macOS, and Linux. \n",
    "   "
   ]
  },
  {
   "cell_type": "markdown",
   "id": "30f1aeb2",
   "metadata": {},
   "source": [
    "Q2. Describe the role of predefined keywords in Python and provide examples of how they are used in a\n",
    "program.\n",
    "Ans. Predefined Keywords are those predefined words that hold a special meaning and have specific purposes. These Keywords can not be used as variable names, function names, or other identifiers. They define the syntax and structure of the language.\n",
    "Such Python Keywords are :- False, True, None, and, as, break, continue etc.\n",
    "\n",
    "  ## Example:-\n",
    "  \n",
    "  for \"and\" Keyword:- \n",
    "  x = (5>3 and 5<10)\n",
    "  print(x)\n",
    "  => True (# as \"and\" keyword represents logical operator which Return True if both statements are True)\n",
    "  \n",
    "  \n"
   ]
  },
  {
   "cell_type": "markdown",
   "id": "3352deb9",
   "metadata": {},
   "source": [
    "## Example in code"
   ]
  },
  {
   "cell_type": "code",
   "execution_count": 4,
   "id": "9ae239fe",
   "metadata": {},
   "outputs": [
    {
     "name": "stdout",
     "output_type": "stream",
     "text": [
      "0\n",
      "1\n",
      "2\n",
      "3\n"
     ]
    }
   ],
   "source": [
    "for i in range(9):\n",
    "    if i > 3:\n",
    "        break\n",
    "    print(i)"
   ]
  },
  {
   "cell_type": "markdown",
   "id": "41c3b3d7",
   "metadata": {},
   "source": [
    "Q3. Compare and contrast mutable and immutable objects in Python with examples.\n",
    "Ans. Mutable and Immutable objects in python refers to containers/objects whose state or value can be changed after they are created, they are called as mutable objects or containers. Whereas those objects or containers whose values don't change after creation are called as Immutable objects/containers.\n",
    "\n",
    "* List is an example of Mutable object \n",
    "* Strings and tuple is a type of immutable object"
   ]
  },
  {
   "cell_type": "markdown",
   "id": "dde64158",
   "metadata": {},
   "source": [
    "## Example in code"
   ]
  },
  {
   "cell_type": "code",
   "execution_count": 2,
   "id": "041dead9",
   "metadata": {},
   "outputs": [
    {
     "data": {
      "text/plain": [
       "[2, 3, 'Sandeep', 'Ashwin']"
      ]
     },
     "execution_count": 2,
     "metadata": {},
     "output_type": "execute_result"
    }
   ],
   "source": [
    "a = [2,3,\"Sandeep\", \"Ashwin\"] # example of mutable with use of list\n",
    "a"
   ]
  },
  {
   "cell_type": "code",
   "execution_count": 4,
   "id": "8d630aa1",
   "metadata": {},
   "outputs": [
    {
     "data": {
      "text/plain": [
       "list"
      ]
     },
     "execution_count": 4,
     "metadata": {},
     "output_type": "execute_result"
    }
   ],
   "source": [
    "type(a)"
   ]
  },
  {
   "cell_type": "code",
   "execution_count": 5,
   "id": "61bc357b",
   "metadata": {},
   "outputs": [],
   "source": [
    "a[3]= \"Ravi\""
   ]
  },
  {
   "cell_type": "code",
   "execution_count": 6,
   "id": "d78df093",
   "metadata": {},
   "outputs": [
    {
     "data": {
      "text/plain": [
       "[2, 3, 'Sandeep', 'Ravi']"
      ]
     },
     "execution_count": 6,
     "metadata": {},
     "output_type": "execute_result"
    }
   ],
   "source": [
    "a"
   ]
  },
  {
   "cell_type": "code",
   "execution_count": 7,
   "id": "74cbd933",
   "metadata": {},
   "outputs": [
    {
     "data": {
      "text/plain": [
       "str"
      ]
     },
     "execution_count": 7,
     "metadata": {},
     "output_type": "execute_result"
    }
   ],
   "source": [
    "a = \"Ashwin\" # example of immutable using string\n",
    "type(a)"
   ]
  },
  {
   "cell_type": "code",
   "execution_count": 8,
   "id": "610c30bc",
   "metadata": {},
   "outputs": [
    {
     "data": {
      "text/plain": [
       "'Ashw'"
      ]
     },
     "execution_count": 8,
     "metadata": {},
     "output_type": "execute_result"
    }
   ],
   "source": [
    "a[0:4]"
   ]
  },
  {
   "cell_type": "code",
   "execution_count": 10,
   "id": "c3be5e3e",
   "metadata": {},
   "outputs": [
    {
     "ename": "TypeError",
     "evalue": "'str' object does not support item assignment",
     "output_type": "error",
     "traceback": [
      "\u001b[1;31m---------------------------------------------------------------------------\u001b[0m",
      "\u001b[1;31mTypeError\u001b[0m                                 Traceback (most recent call last)",
      "Cell \u001b[1;32mIn[10], line 1\u001b[0m\n\u001b[1;32m----> 1\u001b[0m a[\u001b[38;5;241m3\u001b[39m]\u001b[38;5;241m=\u001b[39m \u001b[38;5;124m\"\u001b[39m\u001b[38;5;124mj\u001b[39m\u001b[38;5;124m\"\u001b[39m\n",
      "\u001b[1;31mTypeError\u001b[0m: 'str' object does not support item assignment"
     ]
    }
   ],
   "source": [
    "a[3]= \"j\" # will throw an error as string does not support item assignment"
   ]
  },
  {
   "cell_type": "markdown",
   "id": "26a14b1a",
   "metadata": {},
   "source": [
    "Q4. Discuss the different types of operators in Python and provide examples of how they are used.\n",
    "Ans. Operators in Python are used to perform operations on values and variables so that we can manage data, do computations and can make decisions using data.\n",
    "\n",
    " Operators in Python are:-"
   ]
  },
  {
   "cell_type": "code",
   "execution_count": 11,
   "id": "0effef66",
   "metadata": {},
   "outputs": [
    {
     "data": {
      "text/plain": [
       "5.25"
      ]
     },
     "execution_count": 11,
     "metadata": {},
     "output_type": "execute_result"
    }
   ],
   "source": [
    "# Arithmatic Operators (+,-,*,%,//,**)\n",
    "21/4"
   ]
  },
  {
   "cell_type": "code",
   "execution_count": 13,
   "id": "583eaebc",
   "metadata": {},
   "outputs": [
    {
     "data": {
      "text/plain": [
       "9"
      ]
     },
     "execution_count": 13,
     "metadata": {},
     "output_type": "execute_result"
    }
   ],
   "source": [
    "4+5"
   ]
  },
  {
   "cell_type": "code",
   "execution_count": 14,
   "id": "337e74a7",
   "metadata": {},
   "outputs": [
    {
     "data": {
      "text/plain": [
       "True"
      ]
     },
     "execution_count": 14,
     "metadata": {},
     "output_type": "execute_result"
    }
   ],
   "source": [
    "# Comparison Operators (==,!=,>,<,>=,<=)\n",
    "2==2"
   ]
  },
  {
   "cell_type": "code",
   "execution_count": 15,
   "id": "77eeaf58",
   "metadata": {},
   "outputs": [
    {
     "data": {
      "text/plain": [
       "True"
      ]
     },
     "execution_count": 15,
     "metadata": {},
     "output_type": "execute_result"
    }
   ],
   "source": [
    "10>=1"
   ]
  },
  {
   "cell_type": "code",
   "execution_count": 16,
   "id": "fc656921",
   "metadata": {},
   "outputs": [
    {
     "data": {
      "text/plain": [
       "False"
      ]
     },
     "execution_count": 16,
     "metadata": {},
     "output_type": "execute_result"
    }
   ],
   "source": [
    "12<2"
   ]
  },
  {
   "cell_type": "code",
   "execution_count": 17,
   "id": "985de045",
   "metadata": {},
   "outputs": [
    {
     "name": "stdout",
     "output_type": "stream",
     "text": [
      "True\n"
     ]
    }
   ],
   "source": [
    "# Logical operators (and, or, not)\n",
    "x = 3 \n",
    "print(x<5 and x<10)"
   ]
  },
  {
   "cell_type": "code",
   "execution_count": 18,
   "id": "c2462e43",
   "metadata": {},
   "outputs": [
    {
     "data": {
      "text/plain": [
       "False"
      ]
     },
     "execution_count": 18,
     "metadata": {},
     "output_type": "execute_result"
    }
   ],
   "source": [
    "x = 7\n",
    "x<5 and x<10"
   ]
  },
  {
   "cell_type": "code",
   "execution_count": 19,
   "id": "28c2d7b1",
   "metadata": {},
   "outputs": [
    {
     "data": {
      "text/plain": [
       "10"
      ]
     },
     "execution_count": 19,
     "metadata": {},
     "output_type": "execute_result"
    }
   ],
   "source": [
    "#Assignment operators (=, +=, -=, *=, /=)\n",
    "a = 10\n",
    "a"
   ]
  },
  {
   "cell_type": "code",
   "execution_count": 20,
   "id": "0c2900de",
   "metadata": {},
   "outputs": [
    {
     "data": {
      "text/plain": [
       "25"
      ]
     },
     "execution_count": 20,
     "metadata": {},
     "output_type": "execute_result"
    }
   ],
   "source": [
    "a += 15\n",
    "a"
   ]
  },
  {
   "cell_type": "code",
   "execution_count": 21,
   "id": "d9c68f72",
   "metadata": {},
   "outputs": [
    {
     "data": {
      "text/plain": [
       "True"
      ]
     },
     "execution_count": 21,
     "metadata": {},
     "output_type": "execute_result"
    }
   ],
   "source": [
    "# Membership operators (in, not in)\n",
    "a = \"Jain\"\n",
    "\"J\" in a"
   ]
  },
  {
   "cell_type": "code",
   "execution_count": 22,
   "id": "be11451e",
   "metadata": {},
   "outputs": [
    {
     "data": {
      "text/plain": [
       "False"
      ]
     },
     "execution_count": 22,
     "metadata": {},
     "output_type": "execute_result"
    }
   ],
   "source": [
    "\"v\" in a"
   ]
  },
  {
   "cell_type": "code",
   "execution_count": 23,
   "id": "6ad9940c",
   "metadata": {},
   "outputs": [
    {
     "data": {
      "text/plain": [
       "True"
      ]
     },
     "execution_count": 23,
     "metadata": {},
     "output_type": "execute_result"
    }
   ],
   "source": [
    "\"V\" not in a"
   ]
  },
  {
   "cell_type": "code",
   "execution_count": 24,
   "id": "473138f3",
   "metadata": {},
   "outputs": [
    {
     "data": {
      "text/plain": [
       "False"
      ]
     },
     "execution_count": 24,
     "metadata": {},
     "output_type": "execute_result"
    }
   ],
   "source": [
    "# Identity operators (is, is not)\n",
    "a=2\n",
    "b=3\n",
    "a is b"
   ]
  },
  {
   "cell_type": "code",
   "execution_count": 25,
   "id": "78866fe2",
   "metadata": {},
   "outputs": [
    {
     "data": {
      "text/plain": [
       "True"
      ]
     },
     "execution_count": 25,
     "metadata": {},
     "output_type": "execute_result"
    }
   ],
   "source": [
    "a is not b"
   ]
  },
  {
   "cell_type": "code",
   "execution_count": 26,
   "id": "952fe37f",
   "metadata": {},
   "outputs": [
    {
     "data": {
      "text/plain": [
       "10"
      ]
     },
     "execution_count": 26,
     "metadata": {},
     "output_type": "execute_result"
    }
   ],
   "source": [
    "# Bitwise Operators (&, |, ^, ~, <<, >>)\n",
    "10 & 10"
   ]
  },
  {
   "cell_type": "code",
   "execution_count": 27,
   "id": "e6523094",
   "metadata": {},
   "outputs": [
    {
     "data": {
      "text/plain": [
       "7"
      ]
     },
     "execution_count": 27,
     "metadata": {},
     "output_type": "execute_result"
    }
   ],
   "source": [
    "3 | 5"
   ]
  },
  {
   "cell_type": "code",
   "execution_count": 28,
   "id": "44e1d2bb",
   "metadata": {},
   "outputs": [
    {
     "data": {
      "text/plain": [
       "-4"
      ]
     },
     "execution_count": 28,
     "metadata": {},
     "output_type": "execute_result"
    }
   ],
   "source": [
    "~3 "
   ]
  },
  {
   "cell_type": "code",
   "execution_count": 29,
   "id": "dcc12d4b",
   "metadata": {},
   "outputs": [
    {
     "data": {
      "text/plain": [
       "280"
      ]
     },
     "execution_count": 29,
     "metadata": {},
     "output_type": "execute_result"
    }
   ],
   "source": [
    "35<<3 "
   ]
  },
  {
   "cell_type": "code",
   "execution_count": 30,
   "id": "55f721ca",
   "metadata": {},
   "outputs": [
    {
     "data": {
      "text/plain": [
       "35"
      ]
     },
     "execution_count": 30,
     "metadata": {},
     "output_type": "execute_result"
    }
   ],
   "source": [
    "280>>3"
   ]
  },
  {
   "cell_type": "markdown",
   "id": "9c362ba8",
   "metadata": {},
   "source": [
    "Q5. Explain the concept of type casting in Python with examples.\n",
    "Ans. Type casting is the technique of converting data type of variable into another data type. It is done to work with different types of data, to integrate different types of data into a program, to ensure compatibility between different data types, to enhance the versatility of Python code."
   ]
  },
  {
   "cell_type": "markdown",
   "id": "d927f567",
   "metadata": {},
   "source": [
    "# Example:-"
   ]
  },
  {
   "cell_type": "code",
   "execution_count": 31,
   "id": "abfbf849",
   "metadata": {},
   "outputs": [
    {
     "data": {
      "text/plain": [
       "5"
      ]
     },
     "execution_count": 31,
     "metadata": {},
     "output_type": "execute_result"
    }
   ],
   "source": [
    "a = \"2\" # here we converted value of a from string type to integer type to do aaddition between two numbers\n",
    "b = 3\n",
    "int(a)+b"
   ]
  },
  {
   "cell_type": "code",
   "execution_count": 32,
   "id": "9b94e9da",
   "metadata": {},
   "outputs": [
    {
     "data": {
      "text/plain": [
       "3"
      ]
     },
     "execution_count": 32,
     "metadata": {},
     "output_type": "execute_result"
    }
   ],
   "source": [
    "a = 3.4\n",
    "int(a)"
   ]
  },
  {
   "cell_type": "code",
   "execution_count": 33,
   "id": "2a5a6179",
   "metadata": {},
   "outputs": [
    {
     "data": {
      "text/plain": [
       "6.0"
      ]
     },
     "execution_count": 33,
     "metadata": {},
     "output_type": "execute_result"
    }
   ],
   "source": [
    "b = 6\n",
    "float(b)"
   ]
  },
  {
   "cell_type": "markdown",
   "id": "a200c82b",
   "metadata": {},
   "source": [
    "Q6. How do conditional statements work in Python? Illustrate with examples.\n",
    "Ans. Conditional Statements in Python are like, if, elif, and else, allow programs to execute different blocks of code based on whether a condition is true or false. They control the flow of execution by checking conditions and performing actions accordingly.\n",
    "\n",
    "* if Statement :-\n",
    "  This statement evaluates a condition, if a conditon is true, the code block intended beneath it is executed.\n",
    "  \n",
    "* else statement :-\n",
    "  This statement is used with if statement . i.e if the \"if\" condition is false, the code block indented beneath, the else statement is executed. \n",
    "  \n",
    "* elif statement :- \n",
    "  elif statement or (\"else if\") allows you to check multiple conditions sequentially. If the previous if or else condition false, it evaluates the elif condition."
   ]
  },
  {
   "cell_type": "markdown",
   "id": "26b9074b",
   "metadata": {},
   "source": [
    "# Example"
   ]
  },
  {
   "cell_type": "code",
   "execution_count": 35,
   "id": "b058ea11",
   "metadata": {},
   "outputs": [
    {
     "name": "stdout",
     "output_type": "stream",
     "text": [
      "x is greater than 5\n"
     ]
    }
   ],
   "source": [
    "x = 10        # example of if statement\n",
    "if x>5:\n",
    "    print(\"x is greater than 5\")"
   ]
  },
  {
   "cell_type": "code",
   "execution_count": 36,
   "id": "f4bef71b",
   "metadata": {},
   "outputs": [
    {
     "name": "stdout",
     "output_type": "stream",
     "text": [
      "x is not greater than 5\n"
     ]
    }
   ],
   "source": [
    "x =2       # example of else statement\n",
    "if x>5:\n",
    "    print(\"x is greater than 5\")\n",
    "else:\n",
    "    print(\"x is not greater than 5\")"
   ]
  },
  {
   "cell_type": "code",
   "execution_count": 40,
   "id": "0e43242b",
   "metadata": {},
   "outputs": [
    {
     "name": "stdout",
     "output_type": "stream",
     "text": [
      "x is greater than 5\n"
     ]
    }
   ],
   "source": [
    "x = 8     # example of elif statement\n",
    "if x>5:\n",
    "    print(\"x is greater than 5\")\n",
    "elif x<5 :\n",
    "    print(\"x is smaller than 5\")\n",
    "else: \n",
    "    print(\"Given number is something different\")"
   ]
  },
  {
   "cell_type": "markdown",
   "id": "c0c31009",
   "metadata": {},
   "source": [
    "Q7. Describe the different types of loops in Python and their use cases with examples.\n",
    "Ans. In Python, there are two types of primary loops:- \"for\" loops and \"while\" loops. \n",
    "     For Loops are used to iterate over a sequence like lists, tuples, strings, or Dictionaries.\n",
    "     While Loops execute a block of code repeatedly as long as a condition remains true."
   ]
  },
  {
   "cell_type": "markdown",
   "id": "0bc2f112",
   "metadata": {},
   "source": [
    "# Examples"
   ]
  },
  {
   "cell_type": "code",
   "execution_count": 48,
   "id": "cbb4e0e3",
   "metadata": {},
   "outputs": [
    {
     "name": "stdout",
     "output_type": "stream",
     "text": [
      "Rose\n",
      "Jasmine\n",
      "Sunflower\n",
      "Lotus\n"
     ]
    }
   ],
   "source": [
    "flowers = [\"Rose\", \"Jasmine\", \"Sunflower\", \"Lotus\"]  # for loop example\n",
    "for flower in flowers:\n",
    "    print(flower)"
   ]
  },
  {
   "cell_type": "code",
   "execution_count": 1,
   "id": "7c7f2b27",
   "metadata": {},
   "outputs": [
    {
     "name": "stdout",
     "output_type": "stream",
     "text": [
      "7\n",
      "6\n",
      "5\n",
      "4\n",
      "3\n",
      "2\n",
      "1\n"
     ]
    }
   ],
   "source": [
    "number = 7            # while loop example\n",
    "while number > 0:\n",
    "    print(number)\n",
    "    number-= 1"
   ]
  },
  {
   "cell_type": "code",
   "execution_count": 2,
   "id": "c53e53fe",
   "metadata": {},
   "outputs": [
    {
     "name": "stdout",
     "output_type": "stream",
     "text": [
      "i = 0, j = 0\n",
      "i = 0, j = 1\n",
      "i = 1, j = 0\n",
      "i = 1, j = 1\n",
      "i = 2, j = 0\n",
      "i = 2, j = 1\n"
     ]
    }
   ],
   "source": [
    "for i in range(3):           # Nested loop example\n",
    "    for j in range(2):\n",
    "        print(f\"i = {i}, j = {j}\")"
   ]
  },
  {
   "cell_type": "code",
   "execution_count": null,
   "id": "48b03203",
   "metadata": {},
   "outputs": [],
   "source": []
  }
 ],
 "metadata": {
  "kernelspec": {
   "display_name": "Python 3 (ipykernel)",
   "language": "python",
   "name": "python3"
  },
  "language_info": {
   "codemirror_mode": {
    "name": "ipython",
    "version": 3
   },
   "file_extension": ".py",
   "mimetype": "text/x-python",
   "name": "python",
   "nbconvert_exporter": "python",
   "pygments_lexer": "ipython3",
   "version": "3.10.9"
  }
 },
 "nbformat": 4,
 "nbformat_minor": 5
}
